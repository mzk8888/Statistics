{
  "nbformat": 4,
  "nbformat_minor": 0,
  "metadata": {
    "colab": {
      "provenance": [],
      "authorship_tag": "ABX9TyM3XbjtRvxknNucghYPwHCj",
      "include_colab_link": true
    },
    "kernelspec": {
      "name": "python3",
      "display_name": "Python 3"
    },
    "language_info": {
      "name": "python"
    }
  },
  "cells": [
    {
      "cell_type": "markdown",
      "metadata": {
        "id": "view-in-github",
        "colab_type": "text"
      },
      "source": [
        "<a href=\"https://colab.research.google.com/github/mzk8888/Statistics/blob/main/Print_summary_statistics.ipynb\" target=\"_parent\"><img src=\"https://colab.research.google.com/assets/colab-badge.svg\" alt=\"Open In Colab\"/></a>"
      ]
    },
    {
      "cell_type": "code",
      "execution_count": null,
      "metadata": {
        "id": "sRPvwffji208"
      },
      "outputs": [],
      "source": [
        "import numpy  as np\n",
        "from scipy import stats"
      ]
    },
    {
      "cell_type": "code",
      "source": [
        "data = [1, 2, 3, 4, 5]\n",
        "print(f\"平均:{np.mean(data):.2f}\")\n",
        "print(f\"中央値:{np.median(data):.2f}\")\n",
        "print(f\"分散:{np.var(data):.2f}\")\n",
        "print(f\"標準偏差:{np.std(data):.2f}\")\n",
        "print(f\"標準誤差:{stats.sem(data):.2f}\")\n",
        "print(f\"第1四分位数:{np.percentile(data, 25):.2f}\")\n",
        "print(f\"第3四分位数:{np.percentile(data, 75):.2f}\")\n",
        "print(f\"最小値:{np.min(data):.2f}\")\n",
        "print(f\"最大値:{np.max(data):.2f}\")\n",
        "print(f\"尖度:{stats.kurtosis(data):.2f}\")\n",
        "print(f\"歪度:{stats.skew(data):.2f}\")"
      ],
      "metadata": {
        "colab": {
          "base_uri": "https://localhost:8080/"
        },
        "id": "O0OaiwzXjMvh",
        "outputId": "090ee720-644a-4c1d-9f25-5634c0bd7907"
      },
      "execution_count": null,
      "outputs": [
        {
          "output_type": "stream",
          "name": "stdout",
          "text": [
            "平均:3.00\n",
            "中央値:3.00\n",
            "分散:2.00\n",
            "標準偏差:1.41\n",
            "標準誤差:0.71\n",
            "第1四分位数:2.00\n",
            "第3四分位数:4.00\n",
            "最小値:1.00\n",
            "最大値:5.00\n",
            "尖度:-1.30\n",
            "歪度:0.00\n"
          ]
        }
      ]
    },
    {
      "cell_type": "code",
      "source": [
        "int_array = np.round(data).astype(int)\n",
        "print(f\"最頻値:{stats.mode(int_array)}\")"
      ],
      "metadata": {
        "colab": {
          "base_uri": "https://localhost:8080/"
        },
        "id": "ZJQ47nD2kbTe",
        "outputId": "c93dd025-e78c-4be6-b1b8-7ea753a15121"
      },
      "execution_count": null,
      "outputs": [
        {
          "output_type": "stream",
          "name": "stdout",
          "text": [
            "最頻値:ModeResult(mode=1, count=1)\n"
          ]
        }
      ]
    },
    {
      "cell_type": "code",
      "source": [
        "import numpy as np\n",
        "\n",
        "def get_outlier(data: np.array) -> np.array:\n",
        "  \"\"\"\n",
        "  Identifies outliers in a dataset using the IQR method.\n",
        "\n",
        "  Args:\n",
        "      data: A NumPy array of numerical data.\n",
        "\n",
        "  Returns:\n",
        "      A NumPy array containing the outliers.\n",
        "  \"\"\"\n",
        "  q1 = np.percentile(data, 25)\n",
        "  q3 = np.percentile(data, 75)\n",
        "  iqr = q3 - q1\n",
        "  lower_bound = q1 - 1.5 * iqr\n",
        "  upper_bound = q3 + 1.5 * iqr\n",
        "  outliers = data[(data < lower_bound) | (data > upper_bound)]\n",
        "  return outliers\n",
        "\n",
        "data = np.array([1, 2, 3, 4, 5])  # Convert"
      ],
      "metadata": {
        "id": "En20-hxdleLN"
      },
      "execution_count": null,
      "outputs": []
    },
    {
      "cell_type": "code",
      "source": [],
      "metadata": {
        "id": "WphmSAGllnWf"
      },
      "execution_count": null,
      "outputs": []
    }
  ]
}