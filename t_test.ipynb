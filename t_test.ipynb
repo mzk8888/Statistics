{
  "nbformat": 4,
  "nbformat_minor": 0,
  "metadata": {
    "colab": {
      "provenance": [],
      "authorship_tag": "ABX9TyNQ/qV9QnPkLa2tV3BnScHy",
      "include_colab_link": true
    },
    "kernelspec": {
      "name": "python3",
      "display_name": "Python 3"
    },
    "language_info": {
      "name": "python"
    }
  },
  "cells": [
    {
      "cell_type": "markdown",
      "metadata": {
        "id": "view-in-github",
        "colab_type": "text"
      },
      "source": [
        "<a href=\"https://colab.research.google.com/github/mzk8888/Statistics/blob/main/t_test.ipynb\" target=\"_parent\"><img src=\"https://colab.research.google.com/assets/colab-badge.svg\" alt=\"Open In Colab\"/></a>"
      ]
    },
    {
      "cell_type": "code",
      "execution_count": null,
      "metadata": {
        "id": "aIj8Y_EPtXBx"
      },
      "outputs": [],
      "source": [
        "import numpy as np\n",
        "from scipy import stats"
      ]
    },
    {
      "cell_type": "code",
      "source": [
        "# サンプルデータ群の生成\n",
        "np.random.seed(0)\n",
        "data1 = np.random.normal(loc=0, scale=1, size=10)\n",
        "data2 = np.random.normal(loc=2, scale=1, size=10)"
      ],
      "metadata": {
        "id": "QSn1MnLHtfR5"
      },
      "execution_count": null,
      "outputs": []
    },
    {
      "cell_type": "code",
      "source": [
        "# 対応のあるt検定\n",
        "t, p = stats.ttest_rel(data1, data2)\n",
        "print(f\"p値（対応のあるt検定）: {p:.5f}\")"
      ],
      "metadata": {
        "colab": {
          "base_uri": "https://localhost:8080/"
        },
        "id": "0hp_25BxtjNX",
        "outputId": "a4b562a7-3e9e-490a-9f48-20a51030d48b"
      },
      "execution_count": null,
      "outputs": [
        {
          "output_type": "stream",
          "name": "stdout",
          "text": [
            "p値（対応のあるt検定）: 0.00176\n"
          ]
        }
      ]
    },
    {
      "cell_type": "code",
      "source": [
        "# 対応のないt検定\n",
        "t, p = stats.ttest_ind(data1, data2)\n",
        "print(f\"p値（対応のないt検定）: {p:.5f}\")"
      ],
      "metadata": {
        "colab": {
          "base_uri": "https://localhost:8080/"
        },
        "id": "jubejwiXtkpr",
        "outputId": "76852e84-b28e-4241-9d24-a5864b50aa66"
      },
      "execution_count": null,
      "outputs": [
        {
          "output_type": "stream",
          "name": "stdout",
          "text": [
            "p値（対応のないt検定）: 0.00050\n"
          ]
        }
      ]
    }
  ]
}